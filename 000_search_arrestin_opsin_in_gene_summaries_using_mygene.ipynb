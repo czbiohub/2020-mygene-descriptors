{
 "cells": [
  {
   "cell_type": "markdown",
   "metadata": {},
   "source": [
    "# Import mygene and search for Opisin and arrestin"
   ]
  },
  {
   "cell_type": "code",
   "execution_count": 8,
   "metadata": {},
   "outputs": [
    {
     "name": "stdout",
     "output_type": "stream",
     "text": [
      "querying 1-2...done.\n",
      "Finished.\n",
      "2 input query terms found dup hits:\n",
      "\t[('Opsin', 10), ('arrestin', 7)]\n"
     ]
    },
    {
     "data": {
      "text/plain": [
       "{'out': [{'query': 'Opsin',\n",
       "   '_id': '2652',\n",
       "   '_score': 10.2973995,\n",
       "   'entrezgene': '2652',\n",
       "   'name': 'opsin 1, medium wave sensitive',\n",
       "   'summary': 'This gene encodes for a light absorbing visual pigment of the opsin gene family. The encoded protein is called green cone photopigment or medium-wavelength sensitive opsin. Opsins are G-protein coupled receptors with seven transmembrane domains, an N-terminal extracellular domain, and a C-terminal cytoplasmic domain. The long-wavelength opsin gene and multiple copies of the medium-wavelength opsin gene are tandemly arrayed on the X chromosome and frequent unequal recombination and gene conversion may occur between these sequences. X chromosomes may have fusions of the medium- and long-wavelength opsin genes or may have more than one copy of these genes. Defects in this gene are the cause of deutanopic colorblindness. [provided by RefSeq, Mar 2009].',\n",
       "   'symbol': 'OPN1MW',\n",
       "   'taxid': 9606},\n",
       "  {'query': 'Opsin',\n",
       "   '_id': '728458',\n",
       "   '_score': 9.974491,\n",
       "   'entrezgene': '728458',\n",
       "   'name': 'opsin 1, medium wave sensitive 2',\n",
       "   'summary': 'This gene encodes for a light absorbing visual pigment of the opsin gene family. The encoded protein is called green cone photopigment or medium-wavelength sensitive opsin. Opsins are G-protein coupled receptors with seven transmembrane domains, an N-terminal extracellular domain, and a C-terminal cytoplasmic domain. The long-wavelength opsin gene and multiple copies of the medium-wavelength opsin gene are tandemly arrayed on the X chromosome and frequent unequal recombination and gene conversion may occur between these sequences. X chromosomes may have fusions of the medium- and long-wavelength opsin genes or may have more than one copy of these genes. Defects in this gene are the cause of deutanopic colorblindness. [provided by RefSeq, Mar 2009].',\n",
       "   'symbol': 'OPN1MW2',\n",
       "   'taxid': 9606},\n",
       "  {'query': 'Opsin',\n",
       "   '_id': '10692',\n",
       "   '_score': 9.814631,\n",
       "   'entrezgene': '10692',\n",
       "   'name': 'retinal pigment epithelium-derived rhodopsin homolog',\n",
       "   'summary': 'Opsins are members of the guanine nucleotide-binding protein (G protein)-coupled receptor superfamily. This gene belongs to the seven-exon subfamily of mammalian opsin genes that includes opsin 5 and retinal G protein coupled receptor. [provided by RefSeq, Jul 2008].',\n",
       "   'symbol': 'RRH',\n",
       "   'taxid': 9606},\n",
       "  {'query': 'Opsin',\n",
       "   '_id': '221391',\n",
       "   '_score': 9.7485895,\n",
       "   'entrezgene': '221391',\n",
       "   'name': 'opsin 5',\n",
       "   'summary': 'Opsins are members of the guanine nucleotide-binding protein (G protein)-coupled receptor superfamily. This opsin gene is expressed in the eye, brain, testes, and spinal cord. This gene belongs to the seven-exon subfamily of mammalian opsin genes that includes peropsin (RRH) and retinal G protein coupled receptor (RGR). Like these other seven-exon opsin genes, this family member may encode a protein with photoisomerase activity. Alternative splicing results in multiple transcript variants. [provided by RefSeq, Jun 2010].',\n",
       "   'symbol': 'OPN5',\n",
       "   'taxid': 9606},\n",
       "  {'query': 'Opsin',\n",
       "   '_id': '5956',\n",
       "   '_score': 9.42416,\n",
       "   'entrezgene': '5956',\n",
       "   'name': 'opsin 1, long wave sensitive',\n",
       "   'summary': 'This gene encodes for a light absorbing visual pigment of the opsin gene family. The encoded protein is called red cone photopigment or long-wavelength sensitive opsin. Opsins are G-protein coupled receptors with seven transmembrane domains, an N-terminal extracellular domain, and a C-terminal cytoplasmic domain. This gene and the medium-wavelength opsin gene are tandemly arrayed on the X chromosome and frequent unequal recombination and gene conversion may occur between these sequences. X chromosomes may have fusions of the medium- and long-wavelength opsin genes or may have more than one copy of these genes. Defects in this gene are the cause of partial, protanopic colorblindness. [provided by RefSeq, Jul 2008].',\n",
       "   'symbol': 'OPN1LW',\n",
       "   'taxid': 9606},\n",
       "  {'query': 'Opsin',\n",
       "   '_id': '23596',\n",
       "   '_score': 8.465956,\n",
       "   'entrezgene': '23596',\n",
       "   'name': 'opsin 3',\n",
       "   'summary': 'Opsins are members of the guanine nucleotide-binding protein (G protein)-coupled receptor superfamily. In addition to the visual opsins, mammals possess several photoreceptive non-visual opsins that are expressed in extraocular tissues. This gene, opsin 3, is strongly expressed in brain and testis and weakly expressed in liver, placenta, heart, lung, skeletal muscle, kidney, and pancreas. The gene may also be expressed in the retina. The protein has the canonical features of a photoreceptive opsin protein. [provided by RefSeq, Jul 2008].',\n",
       "   'symbol': 'OPN3',\n",
       "   'taxid': 9606},\n",
       "  {'query': 'Opsin',\n",
       "   '_id': '611',\n",
       "   '_score': 6.3700743,\n",
       "   'entrezgene': '611',\n",
       "   'name': 'opsin 1, short wave sensitive',\n",
       "   'summary': 'This gene belongs to the G-protein coupled receptor 1 family, opsin subfamily. It encodes the blue cone pigment gene which is one of three types of cone photoreceptors responsible for normal color vision. Defects in this gene are the cause of tritan color blindness (tritanopia). Affected individuals lack blue and yellow sensory mechanisms while retaining those for red and green. Defective blue vision is characteristic. [provided by RefSeq, Jul 2008].',\n",
       "   'symbol': 'OPN1SW',\n",
       "   'taxid': 9606},\n",
       "  {'query': 'Opsin',\n",
       "   '_id': '30813',\n",
       "   '_score': 6.3700743,\n",
       "   'entrezgene': '30813',\n",
       "   'name': 'visual system homeobox 1',\n",
       "   'summary': 'The protein encoded by this gene contains a paired-like homeodomain and binds to the core of the locus control region of the red/green visual pigment gene cluster. The encoded protein may regulate expression of the cone opsin genes early in development. Mutations in this gene can cause posterior polymorphous corneal dystrophy and keratoconus. Alternatively spliced transcript variants encoding different isoforms have been described. [provided by RefSeq, Jul 2008].',\n",
       "   'symbol': 'VSX1',\n",
       "   'taxid': 9606},\n",
       "  {'query': 'Opsin',\n",
       "   '_id': '5995',\n",
       "   '_score': 5.162072,\n",
       "   'entrezgene': '5995',\n",
       "   'name': 'retinal G protein coupled receptor',\n",
       "   'summary': 'This gene encodes a putative retinal G-protein coupled receptor. The gene is a member of the opsin subfamily of the 7 transmembrane, G-protein coupled receptor 1 family. Like other opsins which bind retinaldehyde, it contains a conserved lysine residue in the seventh transmembrane domain. The protein acts as a photoisomerase to catalyze the conversion of all-trans-retinal to 11-cis-retinal. The reverse isomerization occurs with rhodopsin in retinal photoreceptor cells. The protein is exclusively expressed in tissue adjacent to retinal photoreceptor cells, the retinal pigment epithelium and Mueller cells. This gene may be associated with autosomal recessive and autosomal dominant retinitis pigmentosa (arRP and adRP, respectively). Alternative splicing results in multiple transcript variants encoding different isoforms. [provided by RefSeq, Jul 2008].',\n",
       "   'symbol': 'RGR',\n",
       "   'taxid': 9606},\n",
       "  {'query': 'Opsin',\n",
       "   '_id': '94233',\n",
       "   '_score': 4.9961486,\n",
       "   'entrezgene': '94233',\n",
       "   'name': 'opsin 4',\n",
       "   'summary': 'Opsins are members of the guanine nucleotide-binding protein (G protein)-coupled receptor superfamily. This gene encodes a photoreceptive opsin protein that is expressed within the ganglion and amacrine cell layers of the retina. In mouse, retinal ganglion cell axons expressing this gene projected to the suprachiasmatic nucleus and other brain nuclei involved in circadian photoentrainment. In mouse, this protein is coupled to a transient receptor potential (TRP) ion channel through a G protein signaling pathway and produces a physiologic light response via membrane depolarization and increased intracellular calcium. The protein functions as a sensory photopigment and may also have photoisomerase activity. Experiments with knockout mice indicate that this gene attenuates, but does not abolish, photoentrainment. Alternative splicing results in multiple transcript variants encoding different isoforms. [provided by RefSeq, Jul 2008].',\n",
       "   'symbol': 'OPN4',\n",
       "   'taxid': 9606},\n",
       "  {'query': 'arrestin',\n",
       "   '_id': '6295',\n",
       "   '_score': 10.461598,\n",
       "   'entrezgene': '6295',\n",
       "   'name': 'S-antigen visual arrestin',\n",
       "   'summary': 'Members of arrestin/beta-arrestin protein family are thought to participate in agonist-mediated desensitization of G-protein-coupled receptors and cause specific dampening of cellular responses to stimuli such as hormones, neurotransmitters, or sensory signals. S-arrestin, also known as S-antigen, is a major soluble photoreceptor protein that is involved in desensitization of the photoactivated transduction cascade. It is expressed in the retina and the pineal gland and inhibits coupling of rhodopsin to transducin in vitro. Additionally, S-arrestin is highly antigenic, and is capable of inducing experimental autoimmune uveoretinitis. Mutations in this gene have been associated with Oguchi disease, a rare autosomal recessive form of night blindness. [provided by RefSeq, Jul 2008].',\n",
       "   'symbol': 'SAG',\n",
       "   'taxid': 9606},\n",
       "  {'query': 'arrestin',\n",
       "   '_id': '408',\n",
       "   '_score': 9.756195,\n",
       "   'entrezgene': '408',\n",
       "   'name': 'arrestin beta 1',\n",
       "   'summary': 'Members of arrestin/beta-arrestin protein family are thought to participate in agonist-mediated desensitization of G-protein-coupled receptors and cause specific dampening of cellular responses to stimuli such as hormones, neurotransmitters, or sensory signals. Arrestin beta 1 is a cytosolic protein and acts as a cofactor in the beta-adrenergic receptor kinase (BARK) mediated desensitization of beta-adrenergic receptors. Besides the central nervous system, it is expressed at high levels in peripheral blood leukocytes, and thus the BARK/beta-arrestin system is believed to play a major role in regulating receptor-mediated immune functions. Alternatively spliced transcripts encoding different isoforms of arrestin beta 1 have been described. [provided by RefSeq, Jan 2011].',\n",
       "   'symbol': 'ARRB1',\n",
       "   'taxid': 9606},\n",
       "  {'query': 'arrestin',\n",
       "   '_id': '409',\n",
       "   '_score': 9.6271925,\n",
       "   'entrezgene': '409',\n",
       "   'name': 'arrestin beta 2',\n",
       "   'summary': 'Members of arrestin/beta-arrestin protein family are thought to participate in agonist-mediated desensitization of G-protein-coupled receptors and cause specific dampening of cellular responses to stimuli such as hormones, neurotransmitters, or sensory signals. Arrestin beta 2, like arrestin beta 1, was shown to inhibit beta-adrenergic receptor function in vitro. It is expressed at high levels in the central nervous system and may play a role in the regulation of synaptic receptors. Besides the brain, a cDNA for arrestin beta 2 was isolated from thyroid gland, and thus it may also be involved in hormone-specific desensitization of TSH receptors. Multiple alternatively spliced transcript variants encoding different isoforms have been found for this gene. [provided by RefSeq, Mar 2012].',\n",
       "   'symbol': 'ARRB2',\n",
       "   'taxid': 9606},\n",
       "  {'query': 'arrestin',\n",
       "   '_id': '407',\n",
       "   '_score': 7.235394,\n",
       "   'entrezgene': '407',\n",
       "   'name': 'arrestin 3',\n",
       "   'summary': 'The protein encoded by this gene is a non-visual arrestin which binds to agonist-activated, phosphorylated G protein-coupled receptors. This binding uncouples the receptor from the heterotrimeric G protein, resulting in termination of the G protein-coupled receptor signaling. The encoded protein also is a part of the centrosome, interacting with gamma-tubulin to help regulate proper centrosome function. [provided by RefSeq, May 2016].',\n",
       "   'symbol': 'ARR3',\n",
       "   'taxid': 9606},\n",
       "  {'query': 'arrestin',\n",
       "   '_id': '57561',\n",
       "   '_score': 7.031619,\n",
       "   'entrezgene': '57561',\n",
       "   'name': 'arrestin domain containing 3',\n",
       "   'summary': 'This gene encodes a member of the arrestin family of proteins, which regulate G protein-mediated signaling. The encoded protein is thought to act as a regulator of breast cancer growth and progression by binding to a phosphorylated form of integrin beta4, a tumor-related antigen, targeting the integrin for internalization and degradation. [provided by RefSeq, Jul 2016].',\n",
       "   'symbol': 'ARRDC3',\n",
       "   'taxid': 9606},\n",
       "  {'query': 'arrestin',\n",
       "   '_id': '27202',\n",
       "   '_score': 6.190786,\n",
       "   'entrezgene': '27202',\n",
       "   'name': 'complement component 5a receptor 2',\n",
       "   'summary': 'This gene encodes a G-protein coupled receptor 1 family member involved in the complement system of the innate immune response. Unlike classical G-protein coupled receptors, the encoded protein does not associate with intracellular G-proteins. It may instead modulate signal transduction through the beta-arrestin pathway, and may alternatively act as a decoy receptor. This gene may be involved in coronary artery disease and in the pathogenesis of sepsis. Alternative splicing results in multiple transcript variants. [provided by RefSeq, Nov 2012].',\n",
       "   'symbol': 'C5AR2',\n",
       "   'taxid': 9606},\n",
       "  {'query': 'arrestin',\n",
       "   '_id': '10628',\n",
       "   '_score': 5.6285706,\n",
       "   'entrezgene': '10628',\n",
       "   'name': 'thioredoxin interacting protein',\n",
       "   'summary': 'This gene encodes a thioredoxin-binding protein that is a member of the alpha arrestin protein family. Thioredoxin is a thiol-oxidoreductase that is a major regulator of cellular redox signaling which protects cells from oxidative stress. This protein inhibits the antioxidative function of thioredoxin resulting in the accumulation of reactive oxygen species and cellular stress. This protein also functions as a regulator of cellular metabolism and of endoplasmic reticulum (ER) stress. This protein may also function as a tumor suppressor. Alternate splicing results in multiple transcript variants. [provided by RefSeq, Sep 2015].',\n",
       "   'symbol': 'TXNIP',\n",
       "   'taxid': 9606}],\n",
       " 'dup': [('Opsin', 10), ('arrestin', 7)],\n",
       " 'missing': []}"
      ]
     },
     "execution_count": 8,
     "metadata": {},
     "output_type": "execute_result"
    }
   ],
   "source": [
    "import mygene\n",
    "\n",
    "mg = mygene.MyGeneInfo()\n",
    "\n",
    "mygene_results = mg.querymany(['Opsin', 'arrestin'], \n",
    "                              # Only search the gene summaries\n",
    "                              scopes='summary', \n",
    "                              \n",
    "                              # Fields to return. Available fields: https://docs.mygene.info/en/latest/doc/data.html#available-fields\n",
    "                              # This is the defaults (\"symbol,name,taxid,entrezgene,ensemblgene\") in the \n",
    "                              # live API (https://mygene.info/v3/api#/query/get_query) plus \"summary\"\n",
    "                              fields=\"symbol,name,taxid,entrezgene,ensemblgene,summary\", \n",
    "                              \n",
    "                              # By default, it will not return duplicated terms, but since we're searching the summaries\n",
    "                              # for a generic word, then need to return all\n",
    "                              returnall=True, \n",
    "                              \n",
    "                              # Only search human\n",
    "                              species='human')\n",
    "mygene_results"
   ]
  },
  {
   "cell_type": "markdown",
   "metadata": {},
   "source": [
    "## Iterate over my gene outputs and print the name\n",
    "\n",
    "\n",
    "```\n",
    "{'query': 'arrestin',\n",
    "   '_id': '27202',\n",
    "   '_score': 6.190786,\n",
    "   'entrezgene': '27202',\n",
    "   'name': 'complement component 5a receptor 2',\n",
    "   'summary': 'This gene encodes a G-protein coupled receptor 1 family member involved in the complement system of the innate immune response. Unlike classical G-protein coupled receptors, the encoded protein does not associate with intracellular G-proteins. It may instead modulate signal transduction through the beta-arrestin pathway, and may alternatively act as a decoy receptor. This gene may be involved in coronary artery disease and in the pathogenesis of sepsis. Alternative splicing results in multiple transcript variants. [provided by RefSeq, Nov 2012].',\n",
    "   'symbol': 'C5AR2',\n",
    "   'taxid': 9606},\n",
    "```\n",
    "\n",
    "Can print or work with any of these keys:\n"
   ]
  },
  {
   "cell_type": "code",
   "execution_count": 12,
   "metadata": {},
   "outputs": [
    {
     "data": {
      "text/plain": [
       "dict_keys(['query', '_id', '_score', 'entrezgene', 'name', 'summary', 'symbol', 'taxid'])"
      ]
     },
     "execution_count": 12,
     "metadata": {},
     "output_type": "execute_result"
    }
   ],
   "source": [
    "mygene_results['out'][0].keys()"
   ]
  },
  {
   "cell_type": "markdown",
   "metadata": {},
   "source": [
    "## For example, here we are iterating over results and printing the name"
   ]
  },
  {
   "cell_type": "code",
   "execution_count": 13,
   "metadata": {},
   "outputs": [
    {
     "name": "stdout",
     "output_type": "stream",
     "text": [
      "opsin 1, medium wave sensitive\n",
      "opsin 1, medium wave sensitive 2\n",
      "retinal pigment epithelium-derived rhodopsin homolog\n",
      "opsin 5\n",
      "opsin 1, long wave sensitive\n",
      "opsin 3\n",
      "opsin 1, short wave sensitive\n",
      "visual system homeobox 1\n",
      "retinal G protein coupled receptor\n",
      "opsin 4\n",
      "S-antigen visual arrestin\n",
      "arrestin beta 1\n",
      "arrestin beta 2\n",
      "arrestin 3\n",
      "arrestin domain containing 3\n",
      "complement component 5a receptor 2\n",
      "thioredoxin interacting protein\n"
     ]
    }
   ],
   "source": [
    "for result in mygene_results['out']:\n",
    "    print(result['name'])"
   ]
  },
  {
   "cell_type": "code",
   "execution_count": null,
   "metadata": {},
   "outputs": [],
   "source": []
  }
 ],
 "metadata": {
  "kernelspec": {
   "display_name": "Python [conda env:mygene]",
   "language": "python",
   "name": "conda-env-mygene-py"
  },
  "language_info": {
   "codemirror_mode": {
    "name": "ipython",
    "version": 3
   },
   "file_extension": ".py",
   "mimetype": "text/x-python",
   "name": "python",
   "nbconvert_exporter": "python",
   "pygments_lexer": "ipython3",
   "version": "3.8.2"
  }
 },
 "nbformat": 4,
 "nbformat_minor": 4
}
